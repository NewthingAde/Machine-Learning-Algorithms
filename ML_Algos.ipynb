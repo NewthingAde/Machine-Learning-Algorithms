{
 "cells": [
  {
   "cell_type": "markdown",
   "id": "ec7869e5",
   "metadata": {},
   "source": [
    "# Ml clf algos\n",
    "\n",
    "\n",
    "### Use case: Classifying Images\n"
   ]
  },
  {
   "cell_type": "code",
   "execution_count": 29,
   "id": "48fbc8d5",
   "metadata": {},
   "outputs": [],
   "source": [
    "import pandas as pd\n",
    "from sklearn.datasets import load_digits"
   ]
  },
  {
   "cell_type": "code",
   "execution_count": 30,
   "id": "052f91ed",
   "metadata": {},
   "outputs": [],
   "source": [
    "digits = load_digits()"
   ]
  },
  {
   "cell_type": "code",
   "execution_count": 31,
   "id": "812bd6fa",
   "metadata": {},
   "outputs": [
    {
     "data": {
      "text/plain": [
       "<Figure size 432x288 with 0 Axes>"
      ]
     },
     "metadata": {},
     "output_type": "display_data"
    },
    {
     "data": {
      "image/png": "[encoded data removed]",
      "text/plain": [
       "<Figure size 288x288 with 1 Axes>"
      ]
     },
     "metadata": {
      "needs_background": "light"
     },
     "output_type": "display_data"
    },
    {
     "data": {
      "image/png": "[encoded data removed]",
      "text/plain": [
       "<Figure size 288x288 with 1 Axes>"
      ]
     },
     "metadata": {
      "needs_background": "light"
     },
     "output_type": "display_data"
    },
    {
     "data": {
      "image/png": "[encoded data removed]",
      "text/plain": [
       "<Figure size 288x288 with 1 Axes>"
      ]
     },
     "metadata": {
      "needs_background": "light"
     },
     "output_type": "display_data"
    }
   ],
   "source": [
    "# let's look at a few of the images\n",
    "import matplotlib.pyplot as plt\n",
    "\n",
    "plt.gray()\n",
    "plt.matshow(digits.images[0])\n",
    "plt.matshow(digits.images[1])\n",
    "plt.matshow(digits.images[9])\n",
    "plt.show()"
   ]
  },
  {
   "cell_type": "markdown",
   "id": "0ddbac98",
   "metadata": {},
   "source": [
    "# Workflow\n",
    "\n",
    "- X & y\n",
    "- train test split\n",
    "- train & eval different models\n",
    "    - Choose best model(s)\n",
    "- Hyperparameter tuning for best model(s)\n",
    "    - Proceed with best model\n",
    "- Predictions on test data, final test against benchmark"
   ]
  },
  {
   "cell_type": "markdown",
   "id": "b5eea194",
   "metadata": {},
   "source": [
    "### Train test split"
   ]
  },
  {
   "cell_type": "code",
   "execution_count": 32,
   "id": "8c5d23d4",
   "metadata": {},
   "outputs": [],
   "source": [
    "X = digits.data\n",
    "y = digits.target"
   ]
  },
  {
   "cell_type": "code",
   "execution_count": 33,
   "id": "9d58e6d2",
   "metadata": {},
   "outputs": [
    {
     "data": {
      "text/plain": [
       "array([[ 0.,  0.,  5., ...,  0.,  0.,  0.],\n",
       "       [ 0.,  0.,  0., ..., 10.,  0.,  0.],\n",
       "       [ 0.,  0.,  0., ..., 16.,  9.,  0.],\n",
       "       ...,\n",
       "       [ 0.,  0.,  1., ...,  6.,  0.,  0.],\n",
       "       [ 0.,  0.,  2., ..., 12.,  0.,  0.],\n",
       "       [ 0.,  0., 10., ..., 12.,  1.,  0.]])"
      ]
     },
     "execution_count": 33,
     "metadata": {},
     "output_type": "execute_result"
    }
   ],
   "source": [
    "X"
   ]
  },
  {
   "cell_type": "code",
   "execution_count": 34,
   "id": "a3e3e686",
   "metadata": {},
   "outputs": [
    {
     "data": {
      "text/plain": [
       "array([0, 1, 2, ..., 8, 9, 8])"
      ]
     },
     "execution_count": 34,
     "metadata": {},
     "output_type": "execute_result"
    }
   ],
   "source": [
    "y"
   ]
  },
  {
   "cell_type": "code",
   "execution_count": 35,
   "id": "bc5ae2ae",
   "metadata": {},
   "outputs": [],
   "source": [
    "from sklearn.model_selection import train_test_split\n",
    "\n",
    "\n",
    "X_train, X_test, y_train, y_test = train_test_split(X, y, random_state=42)"
   ]
  },
  {
   "cell_type": "markdown",
   "id": "d34452ea",
   "metadata": {},
   "source": [
    "### Train and evaluate diffrent algos"
   ]
  },
  {
   "cell_type": "code",
   "execution_count": 36,
   "id": "d4d66e7b",
   "metadata": {},
   "outputs": [],
   "source": [
    "from sklearn.linear_model import LogisticRegression\n",
    "from sklearn.tree import DecisionTreeClassifier\n",
    "from sklearn.ensemble import RandomForestClassifier\n",
    "from sklearn.svm import SVC\n",
    "from sklearn.neighbors import KNeighborsClassifier\n",
    "from sklearn.naive_bayes import GaussianNB"
   ]
  },
  {
   "cell_type": "code",
   "execution_count": 37,
   "id": "9ba522cc",
   "metadata": {},
   "outputs": [
    {
     "name": "stdout",
     "output_type": "stream",
     "text": [
      "Train score for LogisticRegression():0.9576731378218367\n",
      "Train score for DecisionTreeClassifier():0.8485281564091973\n",
      "Train score for RandomForestClassifier():0.9725375189315709\n",
      "Train score for SVC():0.9725292578824177\n",
      "Train score for KNeighborsClassifier():0.9688228004956629\n",
      "Train score for GaussianNB():0.7736252237367479\n"
     ]
    }
   ],
   "source": [
    "classifiers = [LogisticRegression(), DecisionTreeClassifier(),RandomForestClassifier(),SVC(),\n",
    "              KNeighborsClassifier(), GaussianNB()]\n",
    "scaler = StandardScaler()\n",
    "\n",
    "for classifier in classifiers:\n",
    "    pipe = make_pipeline(scaler, classifier)\n",
    "    # always pass empty dct to param_grid if you are only using this method for K-folds Cv\n",
    "    grid = GridSearchCV(estimator=pipe, param_grid={}, cv=5, scoring=\"accuracy\")\n",
    "    grid.fit(X_train, y_train)\n",
    "    print(f'Train score for {classifier}:{grid.best_score_}')"
   ]
  },
  {
   "cell_type": "markdown",
   "id": "ae5e0c99",
   "metadata": {},
   "source": [
    "## LogReg"
   ]
  },
  {
   "cell_type": "code",
   "execution_count": 38,
   "id": "284ae2c2",
   "metadata": {},
   "outputs": [
    {
     "name": "stdout",
     "output_type": "stream",
     "text": [
      "Best score:  0.9576731378218367\n",
      "Best params:  {'logisticregression__C': 1}\n"
     ]
    }
   ],
   "source": [
    "param_grid_logreg = {\n",
    "    'logisticregression__C':[0.1, 1, 10, 100, 1000]\n",
    "}\n",
    "\n",
    "classifier = LogisticRegression(max_iter=1000)\n",
    "pipe = make_pipeline(scaler, classifier)\n",
    "\n",
    "grid_logreg = GridSearchCV(\n",
    "                estimator=pipe,\n",
    "                param_grid=param_grid_logreg,\n",
    "                cv=5,\n",
    "                scoring= \"accuracy\")\n",
    "\n",
    "grid_logreg.fit(X_train, y_train)\n",
    "\n",
    "print(\"Best score: \", grid_logreg.best_score_)\n",
    "print(\"Best params: \", grid_logreg.best_params_)"
   ]
  },
  {
   "cell_type": "markdown",
   "id": "e53891d9",
   "metadata": {},
   "source": [
    "## Random Forest\n"
   ]
  },
  {
   "cell_type": "code",
   "execution_count": 39,
   "id": "04c90a41",
   "metadata": {
    "scrolled": true
   },
   "outputs": [
    {
     "name": "stdout",
     "output_type": "stream",
     "text": [
      "Best score:  0.9725347652485199\n",
      "Best params:  {'randomforestclassifier__max_depth': None, 'randomforestclassifier__min_samples_leaf': 1, 'randomforestclassifier__n_estimators': 200}\n"
     ]
    }
   ],
   "source": [
    "param_grid_rf = {\n",
    "    'randomforestclassifier__min_samples_leaf':[1, 2, 4],\n",
    "    'randomforestclassifier__max_depth':[10, 50, None],\n",
    "    'randomforestclassifier__n_estimators':[50, 100, 200, 500],\n",
    "}\n",
    "\n",
    "classifier = RandomForestClassifier()\n",
    "pipe = make_pipeline(scaler, classifier)\n",
    "\n",
    "grid_rf = GridSearchCV(\n",
    "                estimator=pipe,\n",
    "                param_grid=param_grid_rf,\n",
    "                cv=5,\n",
    "                scoring= \"accuracy\")\n",
    "\n",
    "grid_rf.fit(X_train, y_train)\n",
    "\n",
    "print(\"Best score: \", grid_rf.best_score_)\n",
    "print(\"Best params: \", grid_rf.best_params_)"
   ]
  },
  {
   "cell_type": "code",
   "execution_count": 40,
   "id": "3ec317ba",
   "metadata": {},
   "outputs": [
    {
     "name": "stdout",
     "output_type": "stream",
     "text": [
      "Best score:  0.9725347652485199\n",
      "Best params:  {'randomforestclassifier__max_depth': 50, 'randomforestclassifier__min_samples_leaf': 1, 'randomforestclassifier__n_estimators': 500}\n"
     ]
    }
   ],
   "source": [
    "param_grid_rf = {\n",
    "    'randomforestclassifier__min_samples_leaf':[1, 2, 4],\n",
    "    'randomforestclassifier__max_depth':[10, 50, None],\n",
    "    'randomforestclassifier__n_estimators':[50, 100, 200, 500],\n",
    "}\n",
    "\n",
    "classifier = RandomForestClassifier()\n",
    "pipe = make_pipeline(classifier)\n",
    "\n",
    "grid_rf = GridSearchCV(\n",
    "                estimator=pipe,\n",
    "                param_grid=param_grid_rf,\n",
    "                cv=5,\n",
    "                scoring= \"accuracy\")\n",
    "\n",
    "grid_rf.fit(X_train, y_train)\n",
    "\n",
    "print(\"Best score: \", grid_rf.best_score_)\n",
    "print(\"Best params: \", grid_rf.best_params_)"
   ]
  },
  {
   "cell_type": "markdown",
   "id": "d3cd94d2",
   "metadata": {},
   "source": [
    "# SVC"
   ]
  },
  {
   "cell_type": "code",
   "execution_count": 42,
   "id": "e5210061",
   "metadata": {},
   "outputs": [
    {
     "name": "stdout",
     "output_type": "stream",
     "text": [
      "Best score:  0.9732755059892606\n",
      "Best params:  {'svc__C': 10, 'svc__gamma': 0.001}\n"
     ]
    }
   ],
   "source": [
    "param_grid_svc = {\n",
    "    'svc__C':[0.1,1,10,100,1000],\n",
    "    'svc__gamma':[1, 0.1,0.001,0.0001],\n",
    "}\n",
    "classifier = SVC()\n",
    "pipe = make_pipeline(scaler, classifier)\n",
    "grid_svc = GridSearchCV(\n",
    "                estimator=pipe,\n",
    "                param_grid=param_grid_svc,\n",
    "                cv=5,\n",
    "                scoring= \"accuracy\")\n",
    "grid_svc.fit(X_train, y_train)\n",
    "print(\"Best score: \", grid_svc.best_score_)\n",
    "print(\"Best params: \", grid_svc.best_params_)"
   ]
  },
  {
   "cell_type": "markdown",
   "id": "156c6b3a",
   "metadata": {},
   "source": [
    "## KNN"
   ]
  },
  {
   "cell_type": "code",
   "execution_count": 43,
   "id": "6635e14d",
   "metadata": {},
   "outputs": [
    {
     "name": "stdout",
     "output_type": "stream",
     "text": [
      "Best score:  0.9740190004130526\n",
      "Best params:  {'kneighborsclassifier__metric': 'manhattan', 'kneighborsclassifier__n_neighbors': 3}\n"
     ]
    }
   ],
   "source": [
    "param_grid_knc = {\n",
    "    'kneighborsclassifier__n_neighbors':[3,5,11,19],\n",
    "    'kneighborsclassifier__metric':[\"euclidean\" , \"manhattan\"]\n",
    "    \n",
    "}\n",
    "\n",
    "classifier = KNeighborsClassifier()\n",
    "pipe = make_pipeline(scaler, classifier)\n",
    "\n",
    "grid_knc = GridSearchCV(\n",
    "                estimator=pipe,\n",
    "                param_grid=param_grid_knc,\n",
    "                cv=5,\n",
    "                scoring= \"accuracy\")\n",
    "\n",
    "grid_knc.fit(X_train, y_train)\n",
    "\n",
    "print(\"Best score: \", grid_knc.best_score_)\n",
    "print(\"Best params: \", grid_knc.best_params_)"
   ]
  },
  {
   "cell_type": "markdown",
   "id": "c01e03e4",
   "metadata": {},
   "source": [
    "## Final Evaluation on test data"
   ]
  },
  {
   "cell_type": "code",
   "execution_count": 44,
   "id": "83756eb8",
   "metadata": {},
   "outputs": [
    {
     "name": "stdout",
     "output_type": "stream",
     "text": [
      "score for log reg: 0.9711111111111111\n",
      "With parameters: {'logisticregression__C': 1}\n",
      "\n",
      "score for random forest: 0.98\n",
      "With parameters: {'randomforestclassifier__max_depth': 50, 'randomforestclassifier__min_samples_leaf': 1, 'randomforestclassifier__n_estimators': 500}\n",
      "\n",
      "score for svc: 0.9844444444444445\n",
      "With parameters: {'svc__C': 10, 'svc__gamma': 0.001}\n",
      "\n",
      "score for kneighbors: 0.9755555555555555\n",
      "With parameters: {'kneighborsclassifier__metric': 'manhattan', 'kneighborsclassifier__n_neighbors': 3}\n",
      "\n"
     ]
    }
   ],
   "source": [
    "trained_model = {\n",
    "    'log reg' : grid_logreg,\n",
    "    'random forest': grid_rf,\n",
    "    'svc' : grid_svc,\n",
    "    'kneighbors': grid_knc\n",
    "}\n",
    "\n",
    "\n",
    "for name, model in trained_model.items():\n",
    "    score = model.score(X_test, y_test)\n",
    "    params = model.best_params_\n",
    "    \n",
    "    print(f\"score for {name}: {score}\")\n",
    "    print(f\"With parameters: {params}\")\n",
    "    print(\"\")"
   ]
  },
  {
   "cell_type": "code",
   "execution_count": null,
   "id": "49466e72",
   "metadata": {},
   "outputs": [],
   "source": []
  }
 ],
 "metadata": {
  "kernelspec": {
   "display_name": "Python 3 (ipykernel)",
   "language": "python",
   "name": "python3"
  },
  "language_info": {
   "codemirror_mode": {
    "name": "ipython",
    "version": 3
   },
   "file_extension": ".py",
   "mimetype": "text/x-python",
   "name": "python",
   "nbconvert_exporter": "python",
   "pygments_lexer": "ipython3",
   "version": "3.9.7"
  }
 },
 "nbformat": 4,
 "nbformat_minor": 5
}
